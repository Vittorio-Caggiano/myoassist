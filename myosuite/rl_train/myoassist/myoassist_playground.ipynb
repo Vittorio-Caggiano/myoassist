{
 "cells": [
  {
   "cell_type": "code",
   "execution_count": 2,
   "metadata": {},
   "outputs": [
    {
     "name": "stdout",
     "output_type": "stream",
     "text": [
      "Current directory: d:\\northeastern\\neu_dev\\myo_assist_dev\\myosuite\\rl_train\\myoassist\n",
      "Changed directory: d:\\northeastern\\neu_dev\\myo_assist_dev\n"
     ]
    }
   ],
   "source": [
    "import os\n",
    "\n",
    "\n",
    "if \"original_dir\" in globals():\n",
    "    # current_dir = os.path.dirname(original_dir)\n",
    "    current_dir = original_dir\n",
    "    os.chdir(current_dir)\n",
    "    print(f\"Current directory: {current_dir}\")\n",
    "else:\n",
    "    original_dir = os.getcwd()\n",
    "    print(f\"Current directory: {original_dir}\")\n",
    "\n",
    "os.chdir(\"../../../\") # Depth could be different if you run this script from different places\n",
    "print(f\"Changed directory: {os.getcwd()}\")"
   ]
  },
  {
   "cell_type": "code",
   "execution_count": 3,
   "metadata": {},
   "outputs": [
    {
     "name": "stdout",
     "output_type": "stream",
     "text": [
      "MyoSuite:> Registering Myo Envs\n"
     ]
    }
   ],
   "source": [
    "import numpy as np\n",
    "from myosuite.rl_train.myoassist.utils.data_types import DictionableDataclass\n",
    "from myosuite.rl_train.myoassist.utils.environment_handler import EnvironmentHandler\n",
    "from myosuite.envs.myoassist import myo_leg_18_imitation\n",
    "from myosuite.rl_train.myoassist.utils.data_types import DictionableDataclass"
   ]
  },
  {
   "cell_type": "code",
   "execution_count": 4,
   "metadata": {},
   "outputs": [],
   "source": [
    "config = DictionableDataclass.create(myo_leg_18_imitation.ImitationTrainSessionConfig, None)\n"
   ]
  },
  {
   "cell_type": "code",
   "execution_count": 5,
   "metadata": {},
   "outputs": [],
   "source": [
    "config.env_params.env_id = \"myoLeg18Imitation-v0\"\n",
    "config.env_params.safe_height = 0.0\n",
    "config.env_params.out_of_trajectory_threshold = 1000\n",
    "config.env_params.model_path = \"myosuite/simhive/myoassist_sim/gait14dof22musc_cvt3_Right_Toeless_2D.xml\"\n",
    "config.env_params.reference_data_path = \"myosuite/simhive/myoassist_sim/reference_motions/neumove_02-constspeed_reduced_humanoid.npz\"\n",
    "config.env_params.num_envs = 1\n"
   ]
  },
  {
   "cell_type": "code",
   "execution_count": 6,
   "metadata": {},
   "outputs": [
    {
     "name": "stdout",
     "output_type": "stream",
     "text": [
      "===================================================================\n",
      "Loading reference data from myosuite/simhive/myoassist_sim/reference_motions/neumove_02-constspeed_reduced_humanoid.npz\n",
      "===================================================================\n"
     ]
    }
   ],
   "source": [
    "ref_data_dict = EnvironmentHandler.load_reference_data(config)\n"
   ]
  },
  {
   "cell_type": "code",
   "execution_count": 7,
   "metadata": {},
   "outputs": [
    {
     "data": {
      "text/plain": [
       "dict_keys(['q_pelvis_tx', 'q_pelvis_tz', 'q_pelvis_ty', 'q_pelvis_tilt', 'q_pelvis_list', 'q_pelvis_rotation', 'q_hip_flexion_r', 'q_hip_adduction_r', 'q_hip_rotation_r', 'q_knee_angle_r', 'q_ankle_angle_r', 'q_subtalar_angle_r', 'q_mtp_angle_r', 'q_hip_flexion_l', 'q_hip_adduction_l', 'q_hip_rotation_l', 'q_knee_angle_l', 'q_ankle_angle_l', 'q_subtalar_angle_l', 'q_mtp_angle_l', 'q_lumbar_extension', 'q_lumbar_bending', 'q_lumbar_rotation', 'q_arm_flex_r', 'q_arm_add_r', 'q_arm_rot_r', 'q_elbow_flex_r', 'q_pro_sup_r', 'q_wrist_flex_r', 'q_wrist_dev_r', 'q_arm_flex_l', 'q_arm_add_l', 'q_arm_rot_l', 'q_elbow_flex_l', 'q_pro_sup_l', 'q_wrist_flex_l', 'q_wrist_dev_l', 'dq_pelvis_tx', 'dq_pelvis_tz', 'dq_pelvis_ty', 'dq_pelvis_tilt', 'dq_pelvis_list', 'dq_pelvis_rotation', 'dq_hip_flexion_r', 'dq_hip_adduction_r', 'dq_hip_rotation_r', 'dq_knee_angle_r', 'dq_ankle_angle_r', 'dq_subtalar_angle_r', 'dq_mtp_angle_r', 'dq_hip_flexion_l', 'dq_hip_adduction_l', 'dq_hip_rotation_l', 'dq_knee_angle_l', 'dq_ankle_angle_l', 'dq_subtalar_angle_l', 'dq_mtp_angle_l', 'dq_lumbar_extension', 'dq_lumbar_bending', 'dq_lumbar_rotation', 'dq_arm_flex_r', 'dq_arm_add_r', 'dq_arm_rot_r', 'dq_elbow_flex_r', 'dq_pro_sup_r', 'dq_wrist_flex_r', 'dq_wrist_dev_r', 'dq_arm_flex_l', 'dq_arm_add_l', 'dq_arm_rot_l', 'dq_elbow_flex_l', 'dq_pro_sup_l', 'dq_wrist_flex_l', 'dq_wrist_dev_l'])"
      ]
     },
     "execution_count": 7,
     "metadata": {},
     "output_type": "execute_result"
    }
   ],
   "source": [
    "ref_data_dict[\"series_data\"].keys()"
   ]
  },
  {
   "cell_type": "code",
   "execution_count": 8,
   "metadata": {},
   "outputs": [],
   "source": [
    "def get_min_max_average(series_data):\n",
    "    return min(series_data), np.average(series_data), max(series_data)\n"
   ]
  },
  {
   "cell_type": "code",
   "execution_count": 9,
   "metadata": {},
   "outputs": [
    {
     "name": "stdout",
     "output_type": "stream",
     "text": [
      "(np.float64(-0.2670283395145135), np.float64(-0.05884780564559198), np.float64(0.15540172144764935))\n",
      "(np.float64(0.04965391975515735), np.float64(0.1350033129973685), np.float64(0.2262292600471023))\n",
      "(np.float64(-0.40905639682247846), np.float64(-0.31668300929126264), np.float64(-0.2143664695037175))\n"
     ]
    }
   ],
   "source": [
    "print(get_min_max_average(ref_data_dict[\"series_data\"][\"q_lumbar_rotation\"]))\n",
    "print(get_min_max_average(ref_data_dict[\"series_data\"][\"q_pelvis_tilt\"]))\n",
    "print(get_min_max_average(ref_data_dict[\"series_data\"][\"q_lumbar_extension\"]))\n"
   ]
  },
  {
   "cell_type": "code",
   "execution_count": null,
   "metadata": {},
   "outputs": [
    {
     "name": "stdout",
     "output_type": "stream",
     "text": [
      "===================================================================\n",
      "Loading reference data from myosuite/simhive/myoassist_sim/reference_motions/neumove_02-constspeed_reduced_humanoid.npz\n",
      "===================================================================\n",
      "config.env_params.env_id='myoLeg18Imitation-v0'\n",
      "=================environment seed: 0=====================\n",
      "=================environment model_path: myosuite/simhive/myoassist_sim/gait14dof22musc_cvt3_Right_Toeless_2D.xml=====================\n",
      "\u001b[36m    NeuMove MyoLeg18\n",
      "    \u001b[0m\n",
      "===============================PARAMETERS=============================\n",
      "self._reward_keys_and_weights=ImitationTrainSessionConfig.EnvParams.RewardWeights(forward_reward=0.01, muscle_activation_penalize=0.1, muscle_activation_diff_penalize=0.1, qpos_imitation_rewards={}, end_effector_imitation_reward=0.3)\n",
      "===============================PARAMETERS=============================\n"
     ]
    }
   ],
   "source": [
    "env_human = EnvironmentHandler.create_environment(config, False)\n",
    "env = env_human"
   ]
  },
  {
   "cell_type": "code",
   "execution_count": 11,
   "metadata": {},
   "outputs": [
    {
     "name": "stdout",
     "output_type": "stream",
     "text": [
      "[-0.6551  0.2642  1.7359 -0.3638 -0.0036 -0.3931  0.0154 -0.8001 -0.0289\n",
      " -0.0346  0.0544  0.0388  0.0525  0.0422 -0.0233 -0.4003 -0.0238 -0.3656\n",
      " -0.0036 -0.3931  0.0139 -0.7258 -0.0289 -0.0345  0.0544  0.0389  0.0524\n",
      "  0.0424 -0.0229 -0.4004  0.0237 -0.0303 -0.0373 -0.0739  0.0795 -0.0373\n",
      " -0.0739 -0.0795]\n"
     ]
    }
   ],
   "source": [
    "env.reset()\n",
    "# for _ in range(100):\n",
    "#     env.step(np.zeros(env.action_space.shape))\n",
    "original_qpos = env.sim.data.qpos.copy()\n",
    "print(original_qpos)"
   ]
  },
  {
   "cell_type": "code",
   "execution_count": 12,
   "metadata": {},
   "outputs": [],
   "source": [
    "joint_names = []\n",
    "for idx in range(env.sim.model.njnt):\n",
    "    joint_name = env.sim.model.joint(idx).name\n",
    "    joint_model = env.sim.model.joint(joint_name)\n",
    "    joint_names.append((joint_model.id, joint_name, original_qpos[idx]))"
   ]
  },
  {
   "cell_type": "code",
   "execution_count": 13,
   "metadata": {},
   "outputs": [
    {
     "data": {
      "text/plain": [
       "[(0, 'pelvis_tx', np.float64(-0.6551019046433904)),\n",
       " (1, 'pelvis_ty', np.float64(0.26416936044524403)),\n",
       " (2, 'pelvis_tilt', np.float64(1.7359445659192716)),\n",
       " (3, 'hip_flexion_r', np.float64(-0.3637665217215208)),\n",
       " (4, 'knee_r_translation1', np.float64(-0.003590537906329909)),\n",
       " (5, 'knee_r_translation2', np.float64(-0.39307468614837965)),\n",
       " (6, 'knee_angle_r', np.float64(0.015425309994662923)),\n",
       " (7, 'ankle_angle_r', np.float64(-0.8000894573828531)),\n",
       " (8, 'hamstrings_r_semimem_r-P2_x', np.float64(-0.02892392029333453)),\n",
       " (9, 'hamstrings_r_semimem_r-P2_y', np.float64(-0.03456108758754591)),\n",
       " (10, 'rect_fem_r_rect_fem_r-P3_x', np.float64(0.054440918172689694)),\n",
       " (11, 'rect_fem_r_rect_fem_r-P3_y', np.float64(0.038809496197579056)),\n",
       " (12, 'vasti_r_vas_int_r-P4_x', np.float64(0.052480167483754746)),\n",
       " (13, 'vasti_r_vas_int_r-P4_y', np.float64(0.04223675270499772)),\n",
       " (14, 'gastroc_r_med_gas_r-P2_x', np.float64(-0.023275367614809996)),\n",
       " (15, 'gastroc_r_med_gas_r-P2_y', np.float64(-0.4002961561891553)),\n",
       " (16, 'gastroc_r_med_gas_r-P2_z', np.float64(-0.02376748680204825)),\n",
       " (17, 'hip_flexion_l', np.float64(-0.36563407325875524)),\n",
       " (18, 'knee_l_translation1', np.float64(-0.003601313924367067)),\n",
       " (19, 'knee_l_translation2', np.float64(-0.3931173080018343)),\n",
       " (20, 'knee_angle_l', np.float64(0.013928885036077289)),\n",
       " (21, 'ankle_angle_l', np.float64(-0.7258413309561015)),\n",
       " (22, 'hamstrings_l_semimem_l-P2_x', np.float64(-0.028917621990609408)),\n",
       " (23, 'hamstrings_l_semimem_l-P2_y', np.float64(-0.03449535029478852)),\n",
       " (24, 'rect_fem_l_rect_fem_l-P3_x', np.float64(0.054446887815735576)),\n",
       " (25, 'rect_fem_l_rect_fem_l-P3_y', np.float64(0.038883671162311687)),\n",
       " (26, 'vasti_l_vas_int_l-P4_x', np.float64(0.05239392042675808)),\n",
       " (27, 'vasti_l_vas_int_l-P4_y', np.float64(0.04243015349474825)),\n",
       " (28, 'gastroc_l_med_gas_l-P2_x', np.float64(-0.022926929395474697)),\n",
       " (29, 'gastroc_l_med_gas_l-P2_y', np.float64(-0.4003824824349465)),\n",
       " (30, 'gastroc_l_med_gas_l-P2_z', np.float64(0.023696550051839616)),\n",
       " (31, 'lumbar_extension', np.float64(-0.030335808334361114)),\n",
       " (32, 'iliopsoas_r_psoas_r-P3_x', np.float64(-0.03728070466742019)),\n",
       " (33, 'iliopsoas_r_psoas_r-P3_y', np.float64(-0.07385831521366466)),\n",
       " (34, 'iliopsoas_r_psoas_r-P3_z', np.float64(0.07952078193819298)),\n",
       " (35, 'iliopsoas_l_psoas_l-P3_x', np.float64(-0.03729333246771827)),\n",
       " (36, 'iliopsoas_l_psoas_l-P3_y', np.float64(-0.07385641846429963)),\n",
       " (37, 'iliopsoas_l_psoas_l-P3_z', np.float64(-0.0795204981169436))]"
      ]
     },
     "execution_count": 13,
     "metadata": {},
     "output_type": "execute_result"
    }
   ],
   "source": [
    "joint_names"
   ]
  },
  {
   "cell_type": "code",
   "execution_count": 14,
   "metadata": {},
   "outputs": [
    {
     "name": "stdout",
     "output_type": "stream",
     "text": [
      "change pelvis_ty(1) to 0.93\n",
      "change pelvis_tx(0) to 100\n",
      "change knee_r_translation2(5) to -0.39307468614837965\n",
      "change knee_l_translation2(19) to -0.3931173080018343\n",
      "change lumbar_extension(31) to -0.187\n",
      "change pelvis_tilt(2) to 0.135\n"
     ]
    },
    {
     "data": {
      "image/png": "[encoded data removed]",
      "text/plain": [
       "<Figure size 640x480 with 1 Axes>"
      ]
     },
     "metadata": {},
     "output_type": "display_data"
    }
   ],
   "source": [
    "# for _ in range(100):\n",
    "#     env.step(np.zeros(env.action_space.shape))\n",
    "env.sim.data.qpos = original_qpos.copy()\n",
    "joint_names = []\n",
    "for idx in range(env.sim.model.njnt):\n",
    "    joint_name = env.sim.model.joint(idx).name\n",
    "    joint_model = env.sim.model.joint(joint_name)\n",
    "    joint_names.append(joint_name)\n",
    "def change_joint_pos(joint_name, pos):\n",
    "    joint_id = env.sim.model.joint(joint_name).id\n",
    "    print(f\"change {joint_name}({joint_id}) to {pos}\")\n",
    "    env.sim.data.qpos[joint_id] = pos\n",
    "def get_joint_pos(joint_name, arr):\n",
    "    joint_id = env.sim.model.joint(joint_name).id\n",
    "    return arr[joint_id]\n",
    "env.sim.data.qpos[:] = 0.0\n",
    "# env.sim.data.qpos[:5] = 0.0\n",
    "# env.sim.data.qpos[6:] = 0.0\n",
    "# change_joint_pos(\"pelvis_tx\", get_joint_pos(\"pelvis_tx\", original_qpos))\n",
    "change_joint_pos(\"pelvis_ty\", 0.93)\n",
    "change_joint_pos(\"pelvis_tx\", 100)\n",
    "# change_joint_pos(\"knee_r_translation1\", -0.5 + get_joint_pos(\"knee_r_translation1\", original_qpos))\n",
    "change_joint_pos(\"knee_r_translation2\", get_joint_pos(\"knee_r_translation2\", original_qpos))\n",
    "change_joint_pos(\"knee_l_translation2\", get_joint_pos(\"knee_l_translation2\", original_qpos))\n",
    "change_joint_pos(\"lumbar_extension\", -0.187)\n",
    "change_joint_pos(\"pelvis_tilt\", 0.135)\n",
    "\n",
    "env.sim.forward()\n",
    "frame = env.sim.renderer.render_offscreen(camera_id=1,\n",
    "                                            width=1920,\n",
    "                                            height=1080)\n",
    "import matplotlib.pyplot as plt\n",
    "\n",
    "plt.imshow(frame)\n",
    "plt.axis('off')\n",
    "plt.show()"
   ]
  },
  {
   "cell_type": "markdown",
   "metadata": {},
   "source": [
    "# Dephy"
   ]
  },
  {
   "cell_type": "code",
   "execution_count": 26,
   "metadata": {},
   "outputs": [],
   "source": [
    "config.env_params.env_id = \"myoLeg18Imitation-v0\"\n",
    "config.env_params.safe_height = 0.0\n",
    "config.env_params.out_of_trajectory_threshold = 1000\n",
    "config.env_params.model_path = \"myosuite/simhive/myoassist_sim/gait14dof26musc_cvt3_Right_2D_DEPHY.xml\"\n",
    "config.env_params.reference_data_path = \"myosuite/simhive/myoassist_sim/reference_motions/neumove_02-constspeed_reduced_humanoid.npz\"\n",
    "config.env_params.num_envs = 1\n",
    "\n",
    "config.env_params.enable_lumbar_joint = False\n"
   ]
  },
  {
   "cell_type": "code",
   "execution_count": 27,
   "metadata": {},
   "outputs": [
    {
     "name": "stdout",
     "output_type": "stream",
     "text": [
      "===================================================================\n",
      "Loading reference data from myosuite/simhive/myoassist_sim/reference_motions/neumove_02-constspeed_reduced_humanoid.npz\n",
      "===================================================================\n"
     ]
    }
   ],
   "source": [
    "ref_data_dict = EnvironmentHandler.load_reference_data(config)"
   ]
  },
  {
   "cell_type": "code",
   "execution_count": 30,
   "metadata": {},
   "outputs": [
    {
     "name": "stdout",
     "output_type": "stream",
     "text": [
      "===================================================================\n",
      "Loading reference data from myosuite/simhive/myoassist_sim/reference_motions/neumove_02-constspeed_reduced_humanoid.npz\n",
      "===================================================================\n",
      "config.env_params.env_id='myoLeg18Imitation-v0'\n",
      "=================environment seed: 0=====================\n",
      "=================environment model_path: myosuite/simhive/myoassist_sim/gait14dof26musc_cvt3_Right_2D_DEPHY.xml=====================\n",
      "===============================PARAMETERS=============================\n",
      "self._reward_keys_and_weights=ImitationTrainSessionConfig.EnvParams.RewardWeights(forward_reward=0.01, muscle_activation_penalize=0.1, muscle_activation_diff_penalize=0.1, qpos_imitation_rewards={}, end_effector_imitation_reward=0.3)\n",
      "===============================PARAMETERS=============================\n"
     ]
    }
   ],
   "source": [
    "env_exo = EnvironmentHandler.create_environment(config, False)\n",
    "env = env_exo"
   ]
  },
  {
   "cell_type": "code",
   "execution_count": 34,
   "metadata": {},
   "outputs": [
    {
     "name": "stdout",
     "output_type": "stream",
     "text": [
      "0: pelvis_tx\n",
      "1: pelvis_ty\n",
      "2: pelvis_tilt\n",
      "3: hip_flexion_r\n",
      "4: knee_r_translation1\n",
      "5: knee_r_translation2\n",
      "6: knee_angle_r\n",
      "7: ankle_angle_r\n",
      "8: mtp_angle_r\n",
      "9: hamstrings_r_semimem_r-P2_x\n",
      "10: hamstrings_r_semimem_r-P2_y\n",
      "11: rect_fem_r_rect_fem_r-P3_x\n",
      "12: rect_fem_r_rect_fem_r-P3_y\n",
      "13: vasti_r_vas_int_r-P4_x\n",
      "14: vasti_r_vas_int_r-P4_y\n",
      "15: gastroc_r_med_gas_r-P2_x\n",
      "16: gastroc_r_med_gas_r-P2_y\n",
      "17: gastroc_r_med_gas_r-P2_z\n",
      "18: hip_flexion_l\n",
      "19: knee_l_translation1\n",
      "20: knee_l_translation2\n",
      "21: knee_angle_l\n",
      "22: ankle_angle_l\n",
      "23: mtp_angle_l\n",
      "24: hamstrings_l_semimem_l-P2_x\n",
      "25: hamstrings_l_semimem_l-P2_y\n",
      "26: rect_fem_l_rect_fem_l-P3_x\n",
      "27: rect_fem_l_rect_fem_l-P3_y\n",
      "28: vasti_l_vas_int_l-P4_x\n",
      "29: vasti_l_vas_int_l-P4_y\n",
      "30: gastroc_l_med_gas_l-P2_x\n",
      "31: gastroc_l_med_gas_l-P2_y\n",
      "32: gastroc_l_med_gas_l-P2_z\n",
      "33: lumbar_extension\n",
      "34: iliopsoas_r_psoas_r-P3_x\n",
      "35: iliopsoas_r_psoas_r-P3_y\n",
      "36: iliopsoas_r_psoas_r-P3_z\n",
      "37: iliopsoas_l_psoas_l-P3_x\n",
      "38: iliopsoas_l_psoas_l-P3_y\n",
      "39: iliopsoas_l_psoas_l-P3_z\n"
     ]
    }
   ],
   "source": [
    "joint_names = []\n",
    "for idx in range(env.sim.model.njnt):\n",
    "    joint_name = env.sim.model.joint(idx).name\n",
    "    joint_model = env.sim.model.joint(joint_name)\n",
    "    print(f\"{idx}: {joint_name}\")"
   ]
  },
  {
   "cell_type": "markdown",
   "metadata": {},
   "source": [
    "## MyoLeg18Base.get_obs_dict()\n",
    "```python\n",
    "\n",
    "DEFAULT_OBS_KEYS = ['qpos',\n",
    "                        'qvel',\n",
    "                        'act',\n",
    "                        ]\n",
    "    \n",
    "OBS_JOINTS_POS_KEYS = ['ankle_angle_l', 'ankle_angle_r',\n",
    "                        'hip_flexion_l', 'hip_flexion_r',\n",
    "                        'knee_angle_l', 'knee_angle_r',\n",
    "                        'pelvis_tilt', \n",
    "                    #    'pelvis_tx', \n",
    "                        'pelvis_ty',\n",
    "                        'lumbar_extension']\n",
    "OBS_JOINTS_VEL_KEYS = ['ankle_angle_l', 'ankle_angle_r',\n",
    "                        'hip_flexion_l', 'hip_flexion_r',\n",
    "                        'knee_angle_l', 'knee_angle_r',\n",
    "                        'pelvis_tilt', \n",
    "                        'pelvis_tx', \n",
    "                        'pelvis_ty',\n",
    "                        'lumbar_extension']\n",
    "                        \n",
    "    def get_obs_dict(self, sim):\n",
    "        # TODO observation - tx exclude\n",
    "        obs_dict = {}\n",
    "        obs_dict['time'] = np.array([sim.data.time]) # they use time separately like t, obs = self.obsdict2obsvec(self.obs_dict, self.obs_keys)\n",
    "\n",
    "        qpos = []\n",
    "        for key in self.OBS_JOINTS_POS_KEYS:\n",
    "            qpos.append(sim.data.joint(f\"{key}\").qpos[0].copy())\n",
    "        qvel = []\n",
    "        for key in self.OBS_JOINTS_VEL_KEYS:\n",
    "            qvel.append(sim.data.joint(f\"{key}\").qvel[0].copy())\n",
    "        obs_dict['qpos'] = np.array(qpos) # 7 + 1 elements\n",
    "        obs_dict['qvel'] = np.array(qvel) # 7 + 2 elements\n",
    "        if sim.model.na>0:\n",
    "            # BaseV0 Add the key like this: obs_keys.append(\"act\")\n",
    "            obs_dict['act'] = sim.data.act[:].copy() # 22 elements\n",
    "\n",
    "        return obs_dict\n",
    "\n",
    "```\n",
    "note that lumbar_extension will be removed if you set \"enable_lumbar_extension\" as false in config\n"
   ]
  },
  {
   "cell_type": "code",
   "execution_count": 41,
   "metadata": {},
   "outputs": [
    {
     "data": {
      "text/plain": [
       "(29,)"
      ]
     },
     "execution_count": 41,
     "metadata": {},
     "output_type": "execute_result"
    }
   ],
   "source": [
    "env.action_space.shape"
   ]
  },
  {
   "cell_type": "code",
   "execution_count": 40,
   "metadata": {},
   "outputs": [
    {
     "name": "stdout",
     "output_type": "stream",
     "text": [
      "0: -1.196876049041748\n",
      "1: -1.196768879890442\n",
      "2: -0.3645807206630707\n",
      "3: -0.36449456214904785\n",
      "4: 0.006767692044377327\n",
      "5: 0.006719289347529411\n",
      "6: 1.765973687171936\n",
      "7: 0.2947741448879242\n",
      "8: -0.3007408678531647\n",
      "9: -0.296425998210907\n",
      "10: 0.06463821977376938\n",
      "11: 0.06493926048278809\n",
      "12: 0.021052679046988487\n",
      "13: 0.020833060145378113\n",
      "14: -0.014313302002847195\n",
      "15: 0.018653016537427902\n",
      "16: -0.05666857212781906\n",
      "17: 0.5\n",
      "18: 0.5\n",
      "19: 0.5\n",
      "20: 0.5\n",
      "21: 0.5\n",
      "22: 0.5\n",
      "23: 0.5\n",
      "24: 0.5\n",
      "25: 0.5\n",
      "26: 0.5\n",
      "27: 0.5\n",
      "28: 0.5\n",
      "29: 0.5\n",
      "30: 0.5\n",
      "31: 0.5\n",
      "32: 0.5\n",
      "33: 0.5\n",
      "34: 0.5\n",
      "35: 0.5\n",
      "36: 0.5\n",
      "37: 0.5\n",
      "38: 0.5\n",
      "39: 0.5\n",
      "40: 0.5\n",
      "41: 0.5\n",
      "42: 0.5\n"
     ]
    }
   ],
   "source": [
    "obs, reward, done, truncated, info = env.step(np.zeros(env.action_space.shape))\n",
    "for idx in range(len(obs)):\n",
    "    print(f\"{idx}: {obs[idx]}\")\n",
    "\n"
   ]
  },
  {
   "cell_type": "code",
   "execution_count": 36,
   "metadata": {},
   "outputs": [
    {
     "name": "stdout",
     "output_type": "stream",
     "text": [
      "0: abd_r\n",
      "1: add_r\n",
      "2: hamstrings_r\n",
      "3: bifemsh_r\n",
      "4: edl_r\n",
      "5: fdl_r\n",
      "6: glut_max_r\n",
      "7: iliopsoas_r\n",
      "8: rect_fem_r\n",
      "9: vasti_r\n",
      "10: gastroc_r\n",
      "11: soleus_r\n",
      "12: tib_ant_r\n",
      "13: abd_l\n",
      "14: add_l\n",
      "15: hamstrings_l\n",
      "16: bifemsh_l\n",
      "17: edl_l\n",
      "18: fdl_l\n",
      "19: glut_max_l\n",
      "20: iliopsoas_l\n",
      "21: rect_fem_l\n",
      "22: vasti_l\n",
      "23: gastroc_l\n",
      "24: soleus_l\n",
      "25: tib_ant_l\n",
      "\n",
      "0: abd_r\n",
      "1: add_r\n",
      "2: hamstrings_r\n",
      "3: bifemsh_r\n",
      "4: edl_r\n",
      "5: fdl_r\n",
      "6: glut_max_r\n",
      "7: iliopsoas_r\n",
      "8: rect_fem_r\n",
      "9: vasti_r\n",
      "10: gastroc_r\n",
      "11: soleus_r\n",
      "12: tib_ant_r\n",
      "13: abd_l\n",
      "14: add_l\n",
      "15: hamstrings_l\n",
      "16: bifemsh_l\n",
      "17: edl_l\n",
      "18: fdl_l\n",
      "19: glut_max_l\n",
      "20: iliopsoas_l\n",
      "21: rect_fem_l\n",
      "22: vasti_l\n",
      "23: gastroc_l\n",
      "24: soleus_l\n",
      "25: tib_ant_l\n",
      "26: Exo_R\n",
      "27: Exo_L\n",
      "28: lumbar_extension_motor\n"
     ]
    }
   ],
   "source": [
    "actuator_names = []\n",
    "for idx in range(env.sim.model.na):\n",
    "    actuator_name = env.sim.model.actuator(idx).name\n",
    "    actuator_names.append(actuator_name)\n",
    "    print(f\"{idx}: {actuator_name}\")\n",
    "print()\n",
    "for idx in range(env.sim.model.nu):\n",
    "    print(f\"{idx}: {env.sim.model.actuator(idx).name}\")\n"
   ]
  },
  {
   "cell_type": "code",
   "execution_count": null,
   "metadata": {},
   "outputs": [],
   "source": []
  }
 ],
 "metadata": {
  "kernelspec": {
   "display_name": ".venv",
   "language": "python",
   "name": "python3"
  },
  "language_info": {
   "codemirror_mode": {
    "name": "ipython",
    "version": 3
   },
   "file_extension": ".py",
   "mimetype": "text/x-python",
   "name": "python",
   "nbconvert_exporter": "python",
   "pygments_lexer": "ipython3",
   "version": "3.11.9"
  }
 },
 "nbformat": 4,
 "nbformat_minor": 2
}
