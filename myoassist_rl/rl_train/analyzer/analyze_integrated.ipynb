{
 "cells": [
  {
   "cell_type": "code",
   "execution_count": null,
   "metadata": {},
   "outputs": [],
   "source": [
    "import os\n",
    "\n",
    "if \"original_dir\" in globals():\n",
    "    # current_dir = os.path.dirname(original_dir)\n",
    "    current_dir = original_dir\n",
    "    os.chdir(current_dir)\n",
    "    print(f\"Current directorys: {current_dir}\")\n",
    "else:\n",
    "    original_dir = os.getcwd()\n",
    "    print(f\"Current directory: {original_dir}\")\n",
    "\n",
    "os.chdir(\"../../../../\")\n",
    "print(f\"Changed directory: {os.getcwd()}\")\n"
   ]
  },
  {
   "cell_type": "code",
   "execution_count": null,
   "metadata": {},
   "outputs": [],
   "source": [
    "log_folder_name = input(\"folder_name\") \n",
    "if log_folder_name == \"\":\n",
    "    log_folder_name = \"train_session_20250306-204850_nodephy2\"\n",
    "import os\n",
    "# from myoassist_rl.rl_train.utils.handlers.train_log_handler import TrainLogHandler\n",
    "# from myoassist_rl.rl_train.utils.handlers.train_checkpoint_data_imitation import ImitationTrainCheckpointData\n",
    "log_dir = os.path.join(\"train_logs\",\"selected\",log_folder_name)\n",
    "\n",
    "# log_handler = TrainLogHandler(log_dir,\"session_name\")\n",
    "# log_handler.load_log_data(ImitationTrainCheckpointData)\n",
    "\n",
    "\n",
    "from myoassist_rl.rl_train.analyzer.train_analyzer import TrainAnalyzer\n",
    "train_analyzer = TrainAnalyzer()\n",
    "train_analyzer.analyze_in_sequence(log_dir, show_plot=True)"
   ]
  },
  {
   "cell_type": "code",
   "execution_count": null,
   "metadata": {},
   "outputs": [],
   "source": []
  }
 ],
 "metadata": {
  "kernelspec": {
   "display_name": ".venv",
   "language": "python",
   "name": "python3"
  },
  "language_info": {
   "codemirror_mode": {
    "name": "ipython",
    "version": 3
   },
   "file_extension": ".py",
   "mimetype": "text/x-python",
   "name": "python",
   "nbconvert_exporter": "python",
   "pygments_lexer": "ipython3",
   "version": "3.11.9"
  }
 },
 "nbformat": 4,
 "nbformat_minor": 2
}
